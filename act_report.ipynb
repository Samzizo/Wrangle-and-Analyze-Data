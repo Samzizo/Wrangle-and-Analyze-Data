{
 "cells": [
  {
   "cell_type": "markdown",
   "metadata": {},
   "source": [
    "# visualizations produced from wrangled data 🪢🤠\n",
    "##### Analyzed by Samiha Amroune 😊"
   ]
  },
  {
   "cell_type": "markdown",
   "metadata": {},
   "source": [
    "## Introduction:"
   ]
  },
  {
   "cell_type": "markdown",
   "metadata": {},
   "source": [
    "> [WeRateDogs](https://twitter.com/dog_rates) is a Twitter account that rates people's dogs with a humorous comment about the dog. The account was started in 2015 by college student Matt Nelson, and has received international media attention both for its popularity and for the attention drawn to social media copyright law when it was suspended by Twitter for breaking these aforementioned laws.\n",
    "Nelson, a golf management major at Campbell University in Buies Creek, North Carolina, was inspired by Weird Twitter and had amassed a 10,000-person following on his personal Twitter account.\n",
    "In 2015, he and a friend were at an Applebee's, when he set up a Twitter poll from his personal account asking if he should create a dog rating account; the positive response led him to create the account, which combines cute animals with irreverent snark.\n",
    "WeRateDogs asks people to send photos of their dogs, then tweets selected photos rating and a humorous comment. Dogs are rated on a scale of one to ten, but are invariably given ratings in excess of the maximum, such as \"13/10\". Popular posts are re-posted on Instagram and Facebook.<br>\n",
    "\n",
    ">WeRateDogs downloaded their Twitter archive and sent it to Udacity via email exclusively for us to use in this project. This archive contains basic tweet data (tweet ID, timestamp, text, etc.) for all 5000+ of their tweets as they stood on August 1, 2017"
   ]
  },
  {
   "cell_type": "markdown",
   "metadata": {},
   "source": [
    "# Check if there relation between variables"
   ]
  },
  {
   "cell_type": "markdown",
   "metadata": {},
   "source": [
    "![img/map.png](img/map.png)"
   ]
  },
  {
   "cell_type": "markdown",
   "metadata": {},
   "source": [
    "# Analyze heatmap\n",
    ">1. From the map There is only one strong correlation between  **'favorite_count'** and **'retweet_count'** : This is obviously the most favorite ❤️ , the most retweeted ⏎ (will see details in next plot)\n",
    ">2. From the map There is moderator correlation between  **'favorite_count'** and **'tweet_id'** : This is Normal the most favorite ❤️ , the more tweets\n",
    ">3. 'prediction_confidence' don't have any relation between with any other ploted variable \n",
    ">4. 'rating_out_of_ten' don't have any relation between with any other ploted variable \n",
    ">5. 'tweet_time' have week corelation with "
   ]
  },
  {
   "cell_type": "markdown",
   "metadata": {},
   "source": [
    "# What kind of relation between  'favorite_count' and 'retweet_count' ?"
   ]
  },
  {
   "cell_type": "markdown",
   "metadata": {},
   "source": [
    "![img/relations-scatter.png](img/relations-scatter.png)"
   ]
  },
  {
   "cell_type": "markdown",
   "metadata": {},
   "source": [
    "# Analyze scatterplot\n",
    ">Positive linear relationship between the number of retweets and the number of favorited tweets<br>\n",
    ">[The most retweet](https://twitter.com/dog_rates/status/744234799360020481): 79515 times<br>\n",
    "![img/tweet.png](img/tweet.png)<br>\n",
    ">[The most favorite](https://twitter.com/dog_rates/status/822872901745569793): 132810 times<br>\n",
    "![img/favorite.png](img/favorite.png)<br>"
   ]
  },
  {
   "cell_type": "markdown",
   "metadata": {},
   "source": [
    "# When users prefered to tweet?"
   ]
  },
  {
   "cell_type": "markdown",
   "metadata": {},
   "source": [
    "![img/tweetTime.png](img/tweetTime.png)"
   ]
  },
  {
   "cell_type": "markdown",
   "metadata": {},
   "source": [
    "# Analyze Histogram\n",
    "> From the hist plot we observed:\n",
    ">1. Tweets are highest between 0:00 and 3:00 a.m\n",
    ">2. There are no tweets between 7 am and 12 pm"
   ]
  },
  {
   "cell_type": "markdown",
   "metadata": {},
   "source": [
    "![img/monthsTweeted.png](img/monthsTweeted.png)"
   ]
  },
  {
   "cell_type": "markdown",
   "metadata": {},
   "source": [
    "> **December** is the Most Month tweeted in"
   ]
  },
  {
   "cell_type": "markdown",
   "metadata": {},
   "source": [
    "![img/yearTweeted.png](img/yearTweeted.png)"
   ]
  },
  {
   "cell_type": "markdown",
   "metadata": {},
   "source": [
    "> **2016** is the Most Year tweeted in"
   ]
  },
  {
   "cell_type": "markdown",
   "metadata": {},
   "source": [
    "![img/dayTweeted.png](img/dayTweeted.png)"
   ]
  },
  {
   "cell_type": "markdown",
   "metadata": {},
   "source": [
    "> **25th** Day from the month are the Most tweeted in"
   ]
  },
  {
   "cell_type": "markdown",
   "metadata": {},
   "source": [
    "# What is the Most rating value?"
   ]
  },
  {
   "cell_type": "markdown",
   "metadata": {},
   "source": [
    "![img/mostRating.png](img/mostRating.png)"
   ]
  },
  {
   "cell_type": "markdown",
   "metadata": {},
   "source": [
    "> More then **75%** of tweets has rating **12/10** and the min rating is **2/10**"
   ]
  },
  {
   "cell_type": "markdown",
   "metadata": {},
   "source": [
    "# When we Get the heighest rating?"
   ]
  },
  {
   "cell_type": "markdown",
   "metadata": {},
   "source": [
    "![img/monthrating.png](img/monthrating.png)"
   ]
  },
  {
   "cell_type": "markdown",
   "metadata": {},
   "source": [
    "> **July** is the month that get highest rating"
   ]
  },
  {
   "cell_type": "markdown",
   "metadata": {},
   "source": [
    "![img/dayRating.png](img/dayRating.png)"
   ]
  },
  {
   "cell_type": "markdown",
   "metadata": {},
   "source": [
    "> **4th** day from the month get highest rating"
   ]
  },
  {
   "cell_type": "markdown",
   "metadata": {},
   "source": [
    "# What is the most popular dog stage?"
   ]
  },
  {
   "cell_type": "markdown",
   "metadata": {},
   "source": [
    "![img/popularDogStage.png](img/popularDogStage.png)"
   ]
  },
  {
   "cell_type": "markdown",
   "metadata": {},
   "source": [
    "> Pupper is the most popular dog stage"
   ]
  },
  {
   "cell_type": "markdown",
   "metadata": {},
   "source": [
    "# In this data set What is the most prediction dog?"
   ]
  },
  {
   "cell_type": "markdown",
   "metadata": {},
   "source": [
    "![img/predictionDog.png](img/predictionDog.png)"
   ]
  },
  {
   "cell_type": "markdown",
   "metadata": {},
   "source": [
    "> **Golden_retriever** is the most prediction dog"
   ]
  },
  {
   "cell_type": "markdown",
   "metadata": {},
   "source": [
    "# What is The popular Dog Name?"
   ]
  },
  {
   "cell_type": "markdown",
   "metadata": {},
   "source": [
    "![img/popularName.png](img/popularName.png)"
   ]
  },
  {
   "cell_type": "markdown",
   "metadata": {},
   "source": [
    "> **Charlie** is the Most popular dog name"
   ]
  },
  {
   "cell_type": "markdown",
   "metadata": {},
   "source": [
    "# Conclusion:\n",
    "> If you want to own a dog 🐶, I advise you to be a **pupper** and to be of the type of Golden Retriever, but avoid calling him **Charlie** if you want him to have a special name😉, because the name **Charlie** is the most used.<br>\n",
    "Take a good picture of him and send it to the [@dog_rates](https://twitter.com/dog_rates), but I advise you to do this exactly in the summer, in the month of **July 4th.** This is how you ensure that the rating is high and that it is between **00:00 and 3:00** "
   ]
  }
 ],
 "metadata": {
  "kernelspec": {
   "display_name": "Python 3 (ipykernel)",
   "language": "python",
   "name": "python3"
  },
  "language_info": {
   "codemirror_mode": {
    "name": "ipython",
    "version": 3
   },
   "file_extension": ".py",
   "mimetype": "text/x-python",
   "name": "python",
   "nbconvert_exporter": "python",
   "pygments_lexer": "ipython3",
   "version": "3.8.8"
  }
 },
 "nbformat": 4,
 "nbformat_minor": 2
}
